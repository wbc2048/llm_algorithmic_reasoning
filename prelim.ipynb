{
 "cells": [
  {
   "cell_type": "code",
   "execution_count": 5,
   "metadata": {},
   "outputs": [],
   "source": [
    "from collections import defaultdict\n",
    "from transformers import LlamaForCausalLM, LlamaTokenizer\n",
    "import transformers\n",
    "import random\n",
    "import torch\n",
    "import os\n",
    "import json"
   ]
  },
  {
   "cell_type": "code",
   "execution_count": 6,
   "metadata": {},
   "outputs": [
    {
     "name": "stderr",
     "output_type": "stream",
     "text": [
      "Loading checkpoint shards: 100%|██████████| 3/3 [01:10<00:00, 23.37s/it]\n"
     ]
    }
   ],
   "source": [
    "llama_path = \"/local2/wbc2048/llama/llama-7B-hf\"\n",
    "device = \"cuda:0\"\n",
    "model = LlamaForCausalLM.from_pretrained(llama_path).to(device)\n",
    "tokenizer = LlamaTokenizer.from_pretrained(llama_path)\n",
    "\n",
    "llama_pipeline = transformers.pipeline(\"text-generation\", model=model,tokenizer=tokenizer,torch_dtype=torch.float16,device=device,)"
   ]
  },
  {
   "cell_type": "code",
   "execution_count": 22,
   "metadata": {},
   "outputs": [
    {
     "name": "stderr",
     "output_type": "stream",
     "text": [
      "Setting `pad_token_id` to `eos_token_id`:2 for open-end generation.\n"
     ]
    }
   ],
   "source": [
    "prompt_dijkstra = \"find the shortest path between nodes 0 and 4 using dijkstra's algorithm on the following graph: \"\n",
    "prompt_dijkstra = prompt_dijkstra + \"(0,1),(0,2),(0,3),(0,4),(1,0),(1,2),(1,3),(1,4),(2,0),(2,1),(2,3),(2,4),(3,0),(3,1),(3,2),(3,4),(4,0),(4,1),(4,2),(4,3)\"\n",
    "algorithm_output = llama_pipeline(prompt_dijkstra, num_return_sequences=1, eos_token_id=tokenizer.eos_token_id, max_length=500)"
   ]
  },
  {
   "cell_type": "code",
   "execution_count": 23,
   "metadata": {},
   "outputs": [
    {
     "name": "stdout",
     "output_type": "stream",
     "text": [
      "find the shortest path between nodes 0 and 4 using dijkstra's algorithm on the following graph: (0,1),(0,2),(0,3),(0,4),(1,0),(1,2),(1,3),(1,4),(2,0),(2,1),(2,3),(2,4),(3,0),(3,1),(3,2),(3,4),(4,0),(4,1),(4,2),(4,3)\n",
      "\n",
      "\\begin{code}\n",
      "import networkx as nx\n",
      "import numpy as np\n",
      "\n",
      "G = nx.DiGraph()\n",
      "G.add_edge(0,1)\n",
      "G.add_edge(0,2)\n",
      "G.add_edge(0,3)\n",
      "G.add_edge(0,4)\n",
      "G.add_edge(1,0)\n",
      "G.add_edge(1,2)\n",
      "G.add_edge(1,3)\n",
      "G.add_edge(1,4)\n",
      "G.add_edge(2,0)\n",
      "G.add_edge(2,1)\n",
      "G.add_edge(2,3)\n",
      "G.add_edge(2,4)\n",
      "G.add_edge(3,0)\n",
      "G.add_edge(3,1)\n",
      "G.add_edge(3,2)\n",
      "G.add_edge(3,4)\n",
      "G.add_edge(4,0)\n",
      "G.add_edge(4,1)\n",
      "G.add_edge(4,2)\n",
      "G.add_edge(4,3)\n",
      "\n",
      "def dijkstra(G, source, target):\n",
      "    dist = nx.shortest_path_length(G, source, target)\n",
      "    return dist\n",
      "\n",
      "def main():\n",
      "    print(dijkstra(G, 0, 4))\n",
      "\n",
      "if __name__ == '__main__':\n",
      "    main()\n",
      "\\end{code}\n",
      "\n",
      "Comment: I'm not sure what you mean by \"the shortest path between nodes 0 and 4\". Do you mean the shortest path from node 0 to node 4?\n",
      "\n",
      "Comment: @JoeWiseburger yes, I mean the shortest path from node 0 to\n"
     ]
    }
   ],
   "source": [
    "print(algorithm_output[0][\"generated_text\"])"
   ]
  }
 ],
 "metadata": {
  "kernelspec": {
   "display_name": "nar2",
   "language": "python",
   "name": "python3"
  },
  "language_info": {
   "codemirror_mode": {
    "name": "ipython",
    "version": 3
   },
   "file_extension": ".py",
   "mimetype": "text/x-python",
   "name": "python",
   "nbconvert_exporter": "python",
   "pygments_lexer": "ipython3",
   "version": "3.8.13"
  }
 },
 "nbformat": 4,
 "nbformat_minor": 2
}
